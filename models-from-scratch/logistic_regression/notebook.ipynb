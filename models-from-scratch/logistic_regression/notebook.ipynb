{
 "cells": [
  {
   "cell_type": "code",
   "execution_count": 1,
   "metadata": {},
   "outputs": [],
   "source": [
    "import numpy as np\n",
    "import pandas as pd\n",
    "from sklearn.datasets import make_blobs"
   ]
  },
  {
   "cell_type": "code",
   "execution_count": 2,
   "metadata": {},
   "outputs": [],
   "source": [
    "np.random.seed(42)"
   ]
  },
  {
   "cell_type": "markdown",
   "metadata": {},
   "source": [
    "# Logistic Regression\n",
    "\n",
    "The goal of a binary logistic regression is to model the probability of a random variable $Y$ being 0 or 1 given experimental data. It may be trained on multiclass problems as well, but the focus will be on binary classes.\n",
    "\n",
    "The logistic regression curve is defined by the sigmoid function, with equation presented below.\n",
    "\n",
    "<center>\n",
    "    $ \\Pr(Y=1\\mid X; \\hat{\\beta}) = {\\dfrac {1}{1+e^{-X^{T}\\hat{\\beta} + \\beta_0}}} = h_\\hat{\\beta}(X) \\implies \\Pr(Y=0\\mid X; \\hat{\\beta}) = 1 - h_\\hat{\\beta}(X) $\n",
    "</center>\n",
    "\n",
    "Where $\\hat{\\beta}$ is the vector of coefficients, $\\beta_0$ is the bias and $X$ is the vector of features.\n",
    "\n",
    "Let's start by defining them."
   ]
  },
  {
   "cell_type": "code",
   "execution_count": 3,
   "metadata": {},
   "outputs": [],
   "source": [
    "def sigmoid(x):\n",
    "    return 1 / (1 + np.exp(-x))"
   ]
  },
  {
   "cell_type": "code",
   "execution_count": 4,
   "metadata": {},
   "outputs": [],
   "source": [
    "def prediction(weights, features, bias):\n",
    "    y_hat = sigmoid(np.dot(weights, features.T) + bias)\n",
    "    return y_hat"
   ]
  },
  {
   "cell_type": "code",
   "execution_count": 85,
   "metadata": {},
   "outputs": [],
   "source": [
    "preds = prediction(weigths, pd.DataFrame(X_), bias)"
   ]
  },
  {
   "cell_type": "markdown",
   "metadata": {},
   "source": [
    "### Loss Function"
   ]
  },
  {
   "cell_type": "markdown",
   "metadata": {},
   "source": [
    "For logistic regression, least squares estimation is not capable of producing minimum variance unbiased estimators for the actual parameters. In its place, maximum likelihood estimation / cross-entropy minimization is used to solve for the parameters that best fit the data.\n",
    "\n",
    "The cross-entropy is defined by\n",
    "\n",
    "<center>\n",
    "    $ H(y, p) = - \\sum\\limits_{1}^n y_i\\ln(p_i)+(1-y_i)\\ln(1-p_i) = Error$\n",
    "</center>\n",
    "\n",
    "Where $y$ is the binary classification distribution and $p$ the predicted event probability."
   ]
  },
  {
   "cell_type": "code",
   "execution_count": 9,
   "metadata": {},
   "outputs": [],
   "source": [
    "def loss_function(y, p):\n",
    "    y = np.array(y)\n",
    "    p = np.array(p)\n",
    "    ce = -y * np.log(p) - (1 - y) * np.log(1 - p)\n",
    "    return ce"
   ]
  },
  {
   "cell_type": "markdown",
   "metadata": {},
   "source": [
    "To minimize the loss function, gradient descent may be used, it works by updating the weights and bias proportionally to the derivative of the loss function. The cross entropy derivative is defined by\n",
    "\n",
    "<center>\n",
    "    $ \\nabla Error =  -(y - \\hat{y})(x_1, x_2, \\dots, x_n, 1) $\n",
    "</center>\n",
    "\n",
    "Therefore, the weights and bias are updated in the following way:\n",
    "\n",
    "<center>\n",
    "    $ w_i^{\\prime} \\leftarrow w_i + \\alpha (y - \\hat{y}) x_i $\n",
    "</center>\n",
    "\n",
    "<center>\n",
    "    $b^{\\prime} \\leftarrow b + \\alpha (y - \\hat{y})$\n",
    "</center>\n",
    "\n",
    "Where $\\alpha$ is the learning rate."
   ]
  },
  {
   "cell_type": "code",
   "execution_count": 21,
   "metadata": {},
   "outputs": [],
   "source": [
    "def update_weigths(x, y, y_hat, weights, bias, learning_rate):\n",
    "\n",
    "    bias += learning_rate * (y - y_hat)\n",
    "    weights += learning_rate * (y - y_hat) * x\n",
    "\n",
    "    return weights, bias"
   ]
  },
  {
   "cell_type": "markdown",
   "metadata": {},
   "source": [
    "Ok! We are ready to train a logistic regression. For simplicity batch gradient descent will be used, but for larger datasets stochastic gradient descent presents a faster convergence."
   ]
  },
  {
   "cell_type": "markdown",
   "metadata": {},
   "source": [
    "### Training the Model"
   ]
  },
  {
   "cell_type": "code",
   "execution_count": 22,
   "metadata": {},
   "outputs": [],
   "source": [
    "data = pd.read_csv('data.csv', header=None)\n",
    "data.columns = ['x0', 'x1', 'y']"
   ]
  },
  {
   "cell_type": "code",
   "execution_count": 23,
   "metadata": {},
   "outputs": [],
   "source": [
    "X = data[['x0', 'x1']].values\n",
    "y = data.y.values"
   ]
  },
  {
   "cell_type": "code",
   "execution_count": 49,
   "metadata": {},
   "outputs": [],
   "source": [
    "def train(X, y, n_iters, learning_rate):\n",
    "\n",
    "    n_features = X.shape[1]\n",
    "    errors = []\n",
    "    last_loss = None\n",
    "\n",
    "    bias = 0\n",
    "    weigths = np.random.normal(scale=1/np.sqrt(n_features), size=n_features)\n",
    "\n",
    "    for _ in range(n_iters):\n",
    "        for features, target in zip(X, y):\n",
    "            # Calcula predição\n",
    "            y_hat = prediction(weigths, features, bias)\n",
    "            # Calcula o erro\n",
    "            error = loss_function(target, y_hat)\n",
    "            # Atualiza os pesos\n",
    "            weigths, bias = update_weigths(features, target, y_hat, weigths, bias, learning_rate)\n",
    "\n",
    "    return weigths, bias"
   ]
  },
  {
   "cell_type": "code",
   "execution_count": 50,
   "metadata": {},
   "outputs": [],
   "source": [
    "X = data[['x0', 'x1']].values\n",
    "y = data.y.values\n",
    "n_iters = 100\n",
    "learning_rate = 0.001\n",
    "\n",
    "weigths, bias = train(X, y, n_iters, learning_rate)"
   ]
  },
  {
   "cell_type": "code",
   "execution_count": 27,
   "metadata": {},
   "outputs": [
    {
     "data": {
      "text/plain": [
       "(array([-9.12288645, -9.36534074]), 9.685346548637284)"
      ]
     },
     "execution_count": 27,
     "metadata": {},
     "output_type": "execute_result"
    }
   ],
   "source": [
    "weigths, bias"
   ]
  },
  {
   "cell_type": "markdown",
   "metadata": {},
   "source": [
    "### Visualizing the Results"
   ]
  },
  {
   "cell_type": "code",
   "execution_count": 29,
   "metadata": {},
   "outputs": [],
   "source": [
    "import matplotlib.pyplot as plt\n",
    "import seaborn as sns"
   ]
  },
  {
   "cell_type": "code",
   "execution_count": 30,
   "metadata": {
    "jupyter": {
     "source_hidden": true
    }
   },
   "outputs": [
    {
     "data": {
      "image/png": "[encoded data removed]",
      "text/plain": [
       "<Figure size 432x432 with 3 Axes>"
      ]
     },
     "metadata": {
      "needs_background": "light"
     },
     "output_type": "display_data"
    }
   ],
   "source": [
    "j = sns.jointplot(\n",
    "    data=data[data.y == 1],\n",
    "    x='x0',\n",
    "    y='x1',\n",
    "    color='r',\n",
    "    alpha=.5\n",
    ")\n",
    "\n",
    "j.ax_joint.scatter(\n",
    "    data=data[data.y == 0],\n",
    "    x='x0',\n",
    "    y='x1',\n",
    "    color='b',\n",
    "    alpha=.5\n",
    ")\n",
    "\n",
    "j.ax_marg_x.hist(\n",
    "    data=data[data.y == 0],\n",
    "    x='x0',\n",
    "    color='b',\n",
    "    alpha=.5\n",
    ")\n",
    "\n",
    "j.ax_marg_y.hist(\n",
    "    data=data[data.y == 0],\n",
    "    orientation='horizontal',\n",
    "    x='x1',\n",
    "    color='b',\n",
    "    alpha=.5\n",
    ")\n",
    "\n",
    "plt.show()"
   ]
  },
  {
   "cell_type": "code",
   "execution_count": 36,
   "metadata": {},
   "outputs": [],
   "source": [
    "x0 = np.linspace(0, 1, 100)\n",
    "x1 = np.linspace(0, 1, 100)"
   ]
  },
  {
   "cell_type": "code",
   "execution_count": null,
   "metadata": {},
   "outputs": [],
   "source": [
    "numpy.dstack(numpy.meshgrid(x, y)).reshape(-1, 2)"
   ]
  },
  {
   "cell_type": "code",
   "execution_count": 45,
   "metadata": {},
   "outputs": [],
   "source": [
    "X_ = np.dstack(np.meshgrid([x0, x1])).reshape(-1, 2)"
   ]
  },
  {
   "cell_type": "code",
   "execution_count": null,
   "metadata": {},
   "outputs": [],
   "source": []
  },
  {
   "cell_type": "code",
   "execution_count": 63,
   "metadata": {},
   "outputs": [
    {
     "data": {
      "text/plain": [
       "array([-0.00225427, -0.02022609, -0.03819791, -0.05616972, -0.07414154,\n",
       "       -0.09211336, -0.11008518, -0.128057  , -0.14602882, -0.16400063,\n",
       "       -0.18197245, -0.19994427, -0.21791609, -0.23588791, -0.25385972,\n",
       "       -0.27183154, -0.28980336, -0.30777518, -0.325747  , -0.34371882,\n",
       "       -0.36169063, -0.37966245, -0.39763427, -0.41560609, -0.43357791,\n",
       "       -0.45154972, -0.46952154, -0.48749336, -0.50546518, -0.523437  ,\n",
       "       -0.54140881, -0.55938063, -0.57735245, -0.59532427, -0.61329609,\n",
       "       -0.63126791, -0.64923972, -0.66721154, -0.68518336, -0.70315518,\n",
       "       -0.721127  , -0.73909881, -0.75707063, -0.77504245, -0.79301427,\n",
       "       -0.81098609, -0.82895791, -0.84692972, -0.86490154, -0.88287336,\n",
       "       -0.00225427, -0.02022609, -0.03819791, -0.05616972, -0.07414154,\n",
       "       -0.09211336, -0.11008518, -0.128057  , -0.14602882, -0.16400063,\n",
       "       -0.18197245, -0.19994427, -0.21791609, -0.23588791, -0.25385972,\n",
       "       -0.27183154, -0.28980336, -0.30777518, -0.325747  , -0.34371882,\n",
       "       -0.36169063, -0.37966245, -0.39763427, -0.41560609, -0.43357791,\n",
       "       -0.45154972, -0.46952154, -0.48749336, -0.50546518, -0.523437  ,\n",
       "       -0.54140881, -0.55938063, -0.57735245, -0.59532427, -0.61329609,\n",
       "       -0.63126791, -0.64923972, -0.66721154, -0.68518336, -0.70315518,\n",
       "       -0.721127  , -0.73909881, -0.75707063, -0.77504245, -0.79301427,\n",
       "       -0.81098609, -0.82895791, -0.84692972, -0.86490154, -0.88287336])"
      ]
     },
     "execution_count": 63,
     "metadata": {},
     "output_type": "execute_result"
    }
   ],
   "source": [
    "np.matmul(weigths, X_.T)"
   ]
  }
 ],
 "metadata": {
  "kernelspec": {
   "display_name": "Python 3",
   "language": "python",
   "name": "python3"
  },
  "language_info": {
   "codemirror_mode": {
    "name": "ipython",
    "version": 3
   },
   "file_extension": ".py",
   "mimetype": "text/x-python",
   "name": "python",
   "nbconvert_exporter": "python",
   "pygments_lexer": "ipython3",
   "version": "3.7.4"
  }
 },
 "nbformat": 4,
 "nbformat_minor": 4
}
